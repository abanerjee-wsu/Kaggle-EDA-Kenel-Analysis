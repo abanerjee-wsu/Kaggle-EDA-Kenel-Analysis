{
 "cells": [
  {
   "cell_type": "code",
   "execution_count": 2,
   "metadata": {},
   "outputs": [
    {
     "name": "stdout",
     "output_type": "stream",
     "text": [
      "Top 10 Python Packages:\n"
     ]
    },
    {
     "data": {
      "image/png": "[encoded data removed]",
      "text/plain": [
       "<matplotlib.figure.Figure at 0x11a3630b8>"
      ]
     },
     "metadata": {},
     "output_type": "display_data"
    }
   ],
   "source": [
    "#/usr/bin/python\n",
    " \n",
    "import sqlite3\n",
    "from sqlite3 import Error\n",
    "import re\n",
    "import pandas as pd\n",
    "import matplotlib.pyplot as plt\n",
    "import numpy as np\n",
    "from collections import Counter\n",
    " \n",
    "def create_connection(db_file):\n",
    "    \"\"\" create a database connection to the SQLite database\n",
    "        specified by the db_file\n",
    "    :param db_file: database file\n",
    "    :return: Connection object or None\n",
    "    \"\"\"\n",
    "    try:\n",
    "        conn = sqlite3.connect(db_file)\n",
    "        return conn\n",
    "    except Error as e:\n",
    "        print(e)\n",
    " \n",
    "    return None\n",
    "\n",
    "def select_all_packages(conn):\n",
    "    \"\"\"\n",
    "    Query all packages in the tasks table\n",
    "    :param conn: the Connection object\n",
    "    :return:\n",
    "    \"\"\"\n",
    "    cur = conn.cursor()\n",
    "    cur.execute(\"\"\"SELECT packages FROM 'kernels_location' \n",
    "                left join 'kernels_base' on kernels_location.id = kernels_base.id\n",
    "                where languageName = 'Python'\n",
    "                and packages <> ''\"\"\")\n",
    " \n",
    "    rows = cur.fetchall()\n",
    "    listOfPackages = []\n",
    "    for row in rows:\n",
    "        pList = str(row)\n",
    "        wordList = re.sub(\"[^\\w]\", \" \",  pList).split()\n",
    "        for item in wordList:\n",
    "            listOfPackages.append(item)\n",
    "    return listOfPackages\n",
    "\n",
    "def plot_top_10_packages(listOfPackages):\n",
    "    countOfPackages = {}\n",
    "    countOfPackages = Counter(listOfPackages).most_common(10)\n",
    "    df = pd.DataFrame(countOfPackages, columns=['PackageName', 'Occurence'])\n",
    "    y_pos = np.arange(len(df.PackageName))\n",
    "    plt.bar(y_pos, df.Occurence, align='edge', width=0.5)\n",
    "    plt.xticks(y_pos, df.PackageName, rotation='vertical')\n",
    "    plt.ylabel('Usage')\n",
    "    plt.title('Top 10 Python Packages In Use')\n",
    "    plt.show()\n",
    "\n",
    "\n",
    "def main():\n",
    "    database = \"kernels_new.db\"\n",
    " \n",
    "    # create a database connection\n",
    "    conn = create_connection(database)\n",
    "    with conn:\n",
    "        print(\"Top 10 Python Packages:\")\n",
    "        listOfPackages = select_all_packages(conn)\n",
    "        plot_top_10_packages(listOfPackages)\n",
    "        \n",
    "\n",
    "if __name__ == '__main__':\n",
    "    main()"
   ]
  },
  {
   "cell_type": "code",
   "execution_count": null,
   "metadata": {},
   "outputs": [],
   "source": []
  },
  {
   "cell_type": "code",
   "execution_count": null,
   "metadata": {},
   "outputs": [],
   "source": []
  },
  {
   "cell_type": "code",
   "execution_count": null,
   "metadata": {},
   "outputs": [],
   "source": []
  },
  {
   "cell_type": "code",
   "execution_count": null,
   "metadata": {
    "collapsed": true
   },
   "outputs": [],
   "source": []
  }
 ],
 "metadata": {
  "kernelspec": {
   "display_name": "Python 3",
   "language": "python",
   "name": "python3"
  },
  "language_info": {
   "codemirror_mode": {
    "name": "ipython",
    "version": 3
   },
   "file_extension": ".py",
   "mimetype": "text/x-python",
   "name": "python",
   "nbconvert_exporter": "python",
   "pygments_lexer": "ipython3",
   "version": "3.6.2"
  }
 },
 "nbformat": 4,
 "nbformat_minor": 2
}
